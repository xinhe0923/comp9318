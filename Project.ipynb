{
 "cells": [
  {
   "cell_type": "markdown",
   "metadata": {},
   "source": [
    "<h1><center>COMP9318 Project: Predict Stress in English Words</center></h1>\n",
    "\n",
    "## Deadline: 23:59 20 May 2017 (Sat)"
   ]
  },
  {
   "cell_type": "markdown",
   "metadata": {},
   "source": [
    "In this project, you need to build a classifier to predict the stresses for a list of English words."
   ]
  },
  {
   "cell_type": "markdown",
   "metadata": {},
   "source": [
    "<h1><center>1. Represent Pronunciations of English Words</center></h1>\n",
    "\n",
    "\n",
    "### 1.1 Phonemes\n",
    "\n",
    "We use the following symbols to represent phonemes of English words.\n",
    "\n",
    "* Vowel phonemes: AA, AE, AH, AO, AW, AY, EH, ER, EY, IH, IY, OW, OY, UH, UW\n",
    "* Consonant phonemes: P, B, CH, D, DH, F, G, HH, JH, K, L, M, N, NG, R, S, SH, T, TH, V, W, Y, Z, ZH\n",
    "\n",
    "| Vowel |  IPA  || consonant | IPA | consonant | IPA |\n",
    "|:-----:|:-----:||:---------:|:---:|:---------:|:---:|\n",
    "|   AA  |   ɑ   ||     P     |  p  |     S     |  s  |\n",
    "|   AE  |   æ   ||     B     |  b  |     SH    |  ʃ  |\n",
    "|   AH  | ə / ʌ ||     CH    |  tʃ |     T     |  t  |\n",
    "|   AO  |   ɔ   ||     D     |  d  |     TH    |  θ  |\n",
    "|   AW  |   aʊ  ||     DH    |  ð  |     V     |  v  |\n",
    "|   AY  |   aɪ  ||     F     |  f  |     W     |  w  |\n",
    "|   EH  |   ɛ   ||     G     |  g  |     Y     |  j  |\n",
    "|   ER  |   ɜːr ||     HH    |  h  |     Z     |  z  |\n",
    "|   EY  |   eɪ  ||     JH    |  dʒ |     ZH    |  ʒ  |\n",
    "|   IH  |   ɪ   ||     K     |  k  |           |     |\n",
    "|   IY  |   i   ||     L     |  l  |           |     |\n",
    "|   OW  |   oʊ  ||     M     |  m  |           |     |\n",
    "|   OY  |   ɔɪ  ||     N     |  n  |           |     |\n",
    "|   UH  |   ʊ   ||     NG    |  ŋ  |           |     |\n",
    "|   UW  |   u   ||     R     |  r  |           | $ $ |\n",
    "\n",
    "Note: in this project, we follow the pronunciation of **American English**.\n",
    "\n",
    "\n",
    "### 1.2 Stress\n",
    "\n",
    "We use 0/1/2 followed by a *vowel* phoneme to indicate the stress:\n",
    "* 0: No stress\n",
    "* 1: Primary stress\n",
    "* 2: Secondary stress\n",
    "\n",
    "### 1.3 Word Stress Rules\n",
    "\n",
    "We make the following assumptions in this project (they are true in most cases)\n",
    "\n",
    "* A word **only have one** pronunciation (we do not consider words with multiple pronunciations)\n",
    "* A word **must have one and only one** primary stress\n",
    "* Only vowels are stressed\n",
    "\n",
    "In addition, we **only consider words with less than 5 vowels** (i.e., words with 5 or more vowels have been removed from training and testing datasets).\n",
    "\n",
    "### 1.4 Example\n",
    "We take the word **university** (pronounced as [ˌjunəˈvɜrsəti]) as an example, its pronunciation is formed like:\n",
    "**<center>Y UW2 N AH0 V ER1 S AH0 T IY0</center>**"
   ]
  },
  {
   "cell_type": "markdown",
   "metadata": {},
   "source": [
    "<h1><center>2. File Format</center></h1>\n",
    "\n",
    "### 2.1 Training Data\n",
    "The training data contains 50,000 words. Each word (uppercase) follows by its pronunciation, formed like\n",
    "\n",
    "```\n",
    "Word:Pronunciation\n",
    "```\n",
    "\n",
    "For example, the line corresponding to word *university* should be:\n",
    "\n",
    "```\n",
    "UNIVERSITY:Y UW2 N AH0 V ER1 S AH0 T IY0\n",
    "```\n",
    "\n",
    "### 2.2 Testing Data\n",
    "\n",
    "The testing data contains several lines, each line corresponds to a word. \n",
    "\n",
    "The only difference compares to the training data is that, in the testing data, we have removed all the stress symbols (i.e., 0/1/2). And you need to predict them.\n",
    "\n",
    "For example , the line corresponding to word *university* in the testing data should be:\n",
    "\n",
    "```\n",
    "UNIVERSITY:Y UW N AH V ER S AH T IY\n",
    "```\n",
    "\n",
    "### 2.3 Helper Functions\n",
    "\n",
    "In order to make your life easier and avoid unnecessary bugs, we will offer a helper function to read training/testing data from files, and convert them into a list of strings. And the list will be passed as an argument to the training and testing functions. Please refer to 4.1.2 for execution example."
   ]
  },
  {
   "cell_type": "markdown",
   "metadata": {},
   "source": [
    "<h1><center>3. Your Task</center></h1>\n",
    "\n",
    "### 3.1 Output the position of the primary stress\n",
    "\n",
    "For each word in the testing data, you need to output the position of the primary stress. Since only vowels are stressed, we only count vowels. For example, you should output **3** for the word **university**, as the primary stress of the word university is on the 3rd vowel (i.e., **ER**).\n",
    "\n",
    "Assume the testing data contains 5 words, whose primary stresses are on the 1st, 2nd, 1st, 3rd and 2nd vowel. Then your `test()` function should return a list of 5 integer numbers: `[1, 2, 1, 3, 2]`. In order to do that, you need to train a classifier using `train()` function."
   ]
  },
  {
   "cell_type": "markdown",
   "metadata": {},
   "source": [
    "### 3.2 train()\n",
    "\n",
    "In order to successfully predict the stress, you need to train a classifier. You are required to implement a function named train(). Its two arguments are the training data (stored as a list of strings) and the output file path.\n",
    "\n",
    "You need to dump the classifier and relevant data/tools (if there is any) into one single file. Hint: a easy (but ont the only) way of doing this is to use `pickle`."
   ]
  },
  {
   "cell_type": "code",
   "execution_count": 1,
   "metadata": {
    "collapsed": true
   },
   "outputs": [],
   "source": [
    "def train(data, classifier_file):\n",
    "    pass;"
   ]
  },
  {
   "cell_type": "markdown",
   "metadata": {},
   "source": [
    "### 3.3 test()\n",
    "\n",
    "You also need to implement a function named test(), which takes the test data as input and returns a list of integers which indicate the positions of the primary stress."
   ]
  },
  {
   "cell_type": "code",
   "execution_count": 2,
   "metadata": {
    "collapsed": true
   },
   "outputs": [],
   "source": [
    "def test(data, classifier_file):\n",
    "    pass;"
   ]
  },
  {
   "cell_type": "markdown",
   "metadata": {},
   "source": [
    "### 3.4 Restrictions\n",
    "\n",
    "* The **total** running time of training and testing **should not exceed 10 minutes** in the submission system. The system will force stop your program if it took more than 10 minutes, and you will receive 0 point for the programming part.\n",
    "\n",
    "* You are encouraged to import classifiers from sklearn, but you can **only** import and use **classifiers that has been introduced during the lecture**. For example, you cannot import `sklearn.ensemble.RandomForestClassifier` as it is not covered in the lecture. We do this by assuming that all the students have the same background knowledge."
   ]
  },
  {
   "cell_type": "markdown",
   "metadata": {},
   "source": [
    "### 3.5 Report\n",
    "\n",
    "You need to submit a report (in PDF format) which answers at least the following two questions:\n",
    "* What features do you use in your classifier? Why are they important and what information do you expect them to capture?\n",
    "* How do you experiment and improve your classifier?"
   ]
  },
  {
   "cell_type": "markdown",
   "metadata": {},
   "source": [
    "<h1><center>4. Evaluation</center></h1>\n",
    "\n",
    "### 4.1 Execution of the submitted code\n",
    "\n",
    "Your submission will be tested automatically. Inorder to avoid unneccessary exceptions/errors, please make sure\n",
    "* you have followed the instructions strickly\n",
    "* you have tested your code before submission\n",
    "\n",
    "#### 4.1.1 Execution environment\n",
    "\n",
    "We have pre-installed the following modules, you can only use these modules and the built-in modules/functions.\n",
    "* python: 3.5.2\n",
    "* pandas: 0.19.2\n",
    "* numpy: 1.12.1\n",
    "* scikit-learn: 0.18.1\n",
    "\n",
    "#### 4.1.2 Execution example\n",
    "\n",
    "**Note**: we will only test `train()` and `test()`; **none** of the other functions in your `submission.py` will be called by us. So make sure you called them, if any, within your `train()` or `test()` function properly.\n",
    "\n",
    "You can imagine that our test code looks similar to the following. "
   ]
  },
  {
   "cell_type": "code",
   "execution_count": 3,
   "metadata": {
    "collapsed": false
   },
   "outputs": [],
   "source": [
    "import helper\n",
    "import submission\n",
    "\n",
    "training_data = helper.read_data('./asset/training_data.txt')\n",
    "classifier_path = './asset/classifier.dat'\n",
    "submission.train(training_data, classifier_path)"
   ]
  },
  {
   "cell_type": "code",
   "execution_count": 4,
   "metadata": {
    "collapsed": false,
    "scrolled": true
   },
   "outputs": [
    {
     "name": "stdout",
     "output_type": "stream",
     "text": [
      "[2, 1, 2, 1]\n"
     ]
    }
   ],
   "source": [
    "test_data = helper.read_data('./asset/tiny_test.txt')\n",
    "prediction = submission.test(test_data, classifier_path)\n",
    "print(prediction)           "
   ]
  },
  {
   "cell_type": "markdown",
   "metadata": {},
   "source": [
    "### 4.2 Evaluation\n",
    "\n",
    "**Your code will contribute 80% to your final score of the project, and your report will contribute the rest 20%.**\n",
    "\n",
    "After the execution, the output result of your submitted code will be compared to the ground truth. And the **marco averaged $F_1$ score** will be used to determine the score for the programming part.\n",
    "\n",
    "The precision->score function is a step function:\n",
    "\n",
    "* score = 80, if $F_1$ score $\\geq T_1$\n",
    "* score = 50, if $T_1 > F_1$ score $\\geq T_2$\n",
    "* score = 20, if $T_2 > F_1$ score $\\geq T_3$\n",
    "* score = 0,  if $F_1$ score $< T_3$\n",
    "\n",
    "$T_i$ will be announced later.\n",
    "\n",
    "#### 4.2.1 Example\n",
    "\n",
    "For example, in the above `tiny_test` case, the correct output should be:\n",
    "```\n",
    "[1, 1, 2, 1]\n",
    "```\n",
    "Therefore, the **marco averaged $F_1$ score** of the example result is $0.73$.\n",
    "\n",
    "Assume $T_1 = 0.85$ and $T_2 = 0.7$, then the score for the programming part will be 50."
   ]
  },
  {
   "cell_type": "code",
   "execution_count": null,
   "metadata": {
    "collapsed": false,
    "scrolled": true
   },
   "outputs": [],
   "source": [
    "from sklearn.metrics import f1_score\n",
    "ground_truth = [1, 1, 2, 1]\n",
    "print(f1_score(ground_truth, prediction, average='macro'))"
   ]
  },
  {
   "cell_type": "markdown",
   "metadata": {},
   "source": [
    "### 4.3 Bonus\n",
    "\n",
    "**The 20 best performed classifier will be rewarded by at most 20 bouns points.** More specifically, the 1st place will get 20 points, the 2nd place will get 19 points, and so forth."
   ]
  },
  {
   "cell_type": "markdown",
   "metadata": {},
   "source": [
    "<h1><center>5. Submission</center></h1>\n",
    "\n",
    "Similar to the labs, **you need to submit both `submission.py` and report to the online submission system.** You cannot submit other files.\n",
    "\n",
    "The online system will try to execute your submitted code using data *sampled* from the test dataset that will be used for the final evaluation.\n",
    "\n",
    "For example, *assume* the test dataset $\\mathcal{D}$ for the final evaluation has 1000 words. Then each time when you submit your code, the system will randomly sample $n$ words from $\\mathcal{D}$, and use these $n$ words to test your code. \n",
    "\n",
    "You will be able to see the precision of your code on the $n$ words. If your code cannot be correctly executed, then you will receive an error message.\n",
    "\n",
    "### 5.1 Submission restrictions\n",
    "\n",
    "**Due to obvious reasons, we have the following restrictions. Please strictly follow them.**\n",
    "\n",
    "* Each student has only **10** chances to submit their *code* (no matter it can be correct executed or not). But you can submit report as many times as you want.\n",
    "* The `submission.py` file should **not exceed 30KB**.\n",
    "* The `report.pdf` file should **not exceed 10MB**.\n",
    "\n",
    "### 5.2 Late penalty\n",
    "\n",
    "* -20% for each day after the due date. \n",
    "\n",
    "**NOTE**\n",
    "\n",
    "* We will take the time of your last submission (no matter its the code or report submission) as your submission time.\n",
    "* We will only store your last submitted code and last submitted report; There is no way we can use your earlier versions and we do not accept any file from you after the deadline. "
   ]
  },
  {
   "cell_type": "code",
   "execution_count": null,
   "metadata": {
    "collapsed": true
   },
   "outputs": [],
   "source": []
  }
 ],
 "metadata": {
  "kernelspec": {
   "display_name": "Python 3",
   "language": "python",
   "name": "python3"
  },
  "language_info": {
   "codemirror_mode": {
    "name": "ipython",
    "version": 3
   },
   "file_extension": ".py",
   "mimetype": "text/x-python",
   "name": "python",
   "nbconvert_exporter": "python",
   "pygments_lexer": "ipython3",
   "version": "3.4.5"
  }
 },
 "nbformat": 4,
 "nbformat_minor": 2
}
